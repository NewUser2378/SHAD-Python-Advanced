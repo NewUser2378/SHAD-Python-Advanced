{
 "cells": [
  {
   "cell_type": "markdown",
   "metadata": {},
   "source": [
    "### Домашнее задание по визуализации\n",
    "\n",
    "В домашнем задании будем работать с данными фильмов на IMDB. \n",
    "\n",
    "Для начала считаем данные и проигнорируем все строки, которые не распарсились (для простоты)."
   ]
  },
  {
   "cell_type": "code",
   "execution_count": 2,
   "metadata": {},
   "outputs": [],
   "source": [
    "import pandas as pd\n",
    "df = pd.read_csv('imdb.csv', on_bad_lines='skip')"
   ]
  },
  {
   "cell_type": "markdown",
   "metadata": {},
   "source": [
    "__Задача 1:__ С каким параметром больше всего коррелирует число побед? \n",
    "Ответ на задачу - название колонки в dataframe, с которой больше всего коррелирует `nrOfWins`."
   ]
  },
  {
   "cell_type": "code",
   "execution_count": 10,
   "metadata": {},
   "outputs": [
    {
     "name": "stdout",
     "output_type": "stream",
     "text": [
      "imdbRating          0.197062\n",
      "ratingCount         0.414537\n",
      "duration            0.127717\n",
      "year                0.075403\n",
      "nrOfWins            1.000000\n",
      "nrOfNominations     0.809314\n",
      "nrOfPhotos          0.277551\n",
      "nrOfNewsArticles    0.362361\n",
      "nrOfUserReviews     0.382080\n",
      "nrOfGenre           0.053600\n",
      "Action             -0.035707\n",
      "Adult              -0.012747\n",
      "Adventure          -0.000846\n",
      "Animation          -0.026673\n",
      "Biography           0.094786\n",
      "Comedy             -0.059248\n",
      "Crime               0.016029\n",
      "Documentary        -0.057697\n",
      "Drama               0.193084\n",
      "Family             -0.017698\n",
      "Fantasy             0.016373\n",
      "FilmNoir           -0.030804\n",
      "GameShow           -0.018616\n",
      "History             0.052774\n",
      "Horror             -0.047425\n",
      "Music               0.008596\n",
      "Musical            -0.002966\n",
      "Mystery             0.025273\n",
      "News               -0.018600\n",
      "RealityTV          -0.015195\n",
      "Romance             0.051949\n",
      "SciFi              -0.028716\n",
      "Short              -0.056848\n",
      "Sport              -0.004723\n",
      "TalkShow           -0.050113\n",
      "Thriller            0.013873\n",
      "War                 0.025062\n",
      "Western            -0.027909\n",
      "Name: nrOfWins, dtype: float64\n",
      "nrOfNominations\n"
     ]
    }
   ],
   "source": [
    "numeric_df = df.select_dtypes(include=['number'])\n",
    "corr_matrix = numeric_df.corr()\n",
    "#print(corr_matrix)\n",
    "corr_of_ourLine = corr_matrix['nrOfWins']\n",
    "print(corr_of_ourLine)\n",
    "no_thisLine = corr_of_ourLine.drop('nrOfWins').idxmax() # убираем сам параметр из таблицы \n",
    "print(no_thisLine)"
   ]
  },
  {
   "cell_type": "markdown",
   "metadata": {},
   "source": [
    "__Задача 2:__ Посмотрите, как изменялась средняя оценка фильмов (рейтинг IMDB) с течением времени? В какое десятилетие была самая высокая средняя оценка. \n",
    "\n",
    "Ответ - tuple, где на первом месте тип тренда (слово 'ascending' или 'descending'), на втором - десятилие, например, если самые \"хорошие\" фильмы были в период 1950 - 1959, то 1950."
   ]
  },
  {
   "cell_type": "code",
   "execution_count": 19,
   "metadata": {},
   "outputs": [
    {
     "name": "stdout",
     "output_type": "stream",
     "text": [
      "decade\n",
      "1880.0    7.500000\n",
      "1890.0    6.333333\n",
      "1900.0    6.980000\n",
      "1910.0    6.780000\n",
      "1920.0    7.525325\n",
      "1930.0    7.257602\n",
      "1940.0    7.174375\n",
      "1950.0    6.972546\n",
      "1960.0    7.109625\n",
      "1970.0    6.949894\n",
      "1980.0    6.797103\n",
      "1990.0    6.755265\n",
      "2000.0    6.749231\n",
      "2010.0    6.922776\n",
      "Name: imdbRating, dtype: float64\n"
     ]
    }
   ],
   "source": [
    "df['decade'] = (df['year'] // 10 ) * 10\n",
    "movies_for_dec = df.groupby('decade')\n",
    "# for decade, group in movies_for_dec:\n",
    "#     print(f\"{decade}\")\n",
    "#     print(group)\n",
    "\n",
    "avg_rating = (movies_for_dec['imdbRating'].mean())\n",
    "print(avg_rating)"
   ]
  },
  {
   "cell_type": "markdown",
   "metadata": {},
   "source": [
    "__Задача 3:__ Исследумем распределение оценок фильмов по жанрам (если фильм принадлежит нескольким жанрам, то будем учитывать его в каждом из них). Для простоты будем смотреть на топ-10 самых популярных жанров (по числу фильмов с этим жанром). В ответе укажите 2 жанра: жанр с самой высокой средней оценкой (по медиане) и с самой большой дисперсией (по IQR). Если у нескольких жанров одинаковый показатель, то стоит указать первый по алфавиту. \n",
    "\n",
    "Ответ - tuple с двумя жанрами"
   ]
  },
  {
   "cell_type": "code",
   "execution_count": 30,
   "metadata": {},
   "outputs": [
    {
     "name": "stdout",
     "output_type": "stream",
     "text": [
      "Drama          5982\n",
      "Comedy         5164\n",
      "Action         2237\n",
      "Crime          1978\n",
      "Romance        1806\n",
      "Adventure      1768\n",
      "Thriller       1295\n",
      "Documentary    1147\n",
      "Family         1044\n",
      "Horror         1013\n",
      "dtype: int64\n",
      "{'Drama': 7.2, 'Comedy': 7.0, 'Action': 6.7, 'Crime': 7.0, 'Romance': 7.0, 'Adventure': 6.9, 'Thriller': 6.7, 'Documentary': 7.3, 'Family': 6.9, 'Horror': 6.2}\n",
      "{'Drama': 1.1000000000000005, 'Comedy': 1.3999999999999995, 'Action': 1.4000000000000004, 'Crime': 1.1999999999999993, 'Romance': 1.2999999999999998, 'Adventure': 1.2999999999999998, 'Thriller': 1.2999999999999998, 'Documentary': 1.0750000000000002, 'Family': 1.5, 'Horror': 1.5}\n"
     ]
    },
    {
     "data": {
      "text/plain": [
       "('Documentary', 'Family')"
      ]
     },
     "execution_count": 30,
     "metadata": {},
     "output_type": "execute_result"
    }
   ],
   "source": [
    "genre_counts = df.drop(columns=['fn', 'tid','decade', 'title', 'wordsInTitle', 'url', 'imdbRating', 'ratingCount', 'duration', 'year', 'type',\n",
    "                                'nrOfWins', 'nrOfNominations', 'nrOfPhotos', 'nrOfNewsArticles', 'nrOfUserReviews', 'nrOfGenre']).sum() \n",
    "\n",
    "#print(genre_counts)\n",
    "\n",
    "top10_gen = genre_counts.sort_values(ascending=False).head(10)\n",
    "only_10_gen = top10_gen.index\n",
    "print(top10_gen)\n",
    "\n",
    "median = {}\n",
    "iqr = {}\n",
    "\n",
    "for gen in only_10_gen:\n",
    "    this_gen_movies = df[df[gen] == 1]\n",
    "    median[gen] = this_gen_movies['imdbRating'].median()\n",
    "    q1 = this_gen_movies['imdbRating'].quantile(0.25)\n",
    "    q3 = this_gen_movies['imdbRating'].quantile(0.75)\n",
    "    iqr[gen] = q3 - q1\n",
    "print(median)\n",
    "print(iqr)\n",
    "\n",
    "highest_median_genre = min(median, key=lambda x: (-median[x], x))\n",
    "\n",
    "# Находим жанр с самой большой дисперсией (IQR)\n",
    "highest_iqr_genre = min(iqr, key=lambda x: (-iqr[x], x))\n",
    "\n",
    "highest_median_genre, highest_iqr_genre"
   ]
  },
  {
   "cell_type": "markdown",
   "metadata": {},
   "source": [
    "__Задача 4:__ Посмотрим на распределение фильмов по числу слов в названии. Какой график вы бы для этого построили и какова мода (самое частотое значение) этого распределения?\n",
    "\n",
    "Ответ - число слов, которое встречается в большем количестве фильмов."
   ]
  },
  {
   "cell_type": "code",
   "execution_count": 83,
   "metadata": {},
   "outputs": [
    {
     "name": "stdout",
     "output_type": "stream",
     "text": [
      "Самое частое количество слов в названии (мода): 3\n",
      "Медиана количества слов в названии: 5.0\n"
     ]
    },
    {
     "data": {
      "image/png": "[encoded data removed]",
      "text/plain": [
       "<Figure size 640x480 with 1 Axes>"
      ]
     },
     "metadata": {},
     "output_type": "display_data"
    }
   ],
   "source": [
    "import seaborn as sns\n",
    "import matplotlib.pyplot as plt\n",
    "\n",
    "sns.histplot(df['wordsInTitle'], kde=False, bins=range(1, df['wordsInTitle'].max() + 2), color='skyblue')\n",
    "\n",
    "plt.title(\"Распределение количества слов в названии фильмов\")\n",
    "plt.xlabel(\"Число слов в названии\")\n",
    "plt.ylabel(\"Частота\")\n",
    "\n",
    "mode_words = df['wordsInTitle'].mode()[0] \n",
    "print(f\"Самое частое количество слов в названии (мода): {mode_words}\")\n",
    "\n",
    "print(f\"Медиана количества слов в названии: {median_words}\")\n",
    "\n",
    "plt.show()\n"
   ]
  },
  {
   "cell_type": "markdown",
   "metadata": {},
   "source": [
    "__Вопрос 5:__ Посмотрим на то, как менялась со временем продолжительность фильмов? Постройте график и ответьте на вопрос, в каком десятилетии доля коротких фильмов (короче часа) была выше всего? Рассматриваем период >= 1920 года.\n",
    "\n",
    "Ответ - десятилетие, например, если больше всего коротких фильмов было в период 1950 - 1959, то 1950."
   ]
  },
  {
   "cell_type": "code",
   "execution_count": 89,
   "metadata": {},
   "outputs": [
    {
     "name": "stdout",
     "output_type": "stream",
     "text": [
      "decade\n",
      "1920.0     16\n",
      "1930.0     33\n",
      "1940.0     30\n",
      "1950.0     48\n",
      "1960.0    119\n",
      "1970.0    101\n",
      "1980.0    194\n",
      "1990.0    428\n",
      "2000.0    940\n",
      "2010.0    739\n",
      "dtype: int64\n",
      "decade\n",
      "1920.0    0.101266\n",
      "1930.0    0.095101\n",
      "1940.0    0.061983\n",
      "1950.0    0.071749\n",
      "1960.0    0.145122\n",
      "1970.0    0.104663\n",
      "1980.0    0.140886\n",
      "1990.0    0.181202\n",
      "2000.0    0.203199\n",
      "2010.0    0.304240\n",
      "dtype: float64\n"
     ]
    },
    {
     "data": {
      "image/png": "[encoded data removed]",
      "text/plain": [
       "<Figure size 1000x600 with 1 Axes>"
      ]
     },
     "metadata": {},
     "output_type": "display_data"
    },
    {
     "name": "stdout",
     "output_type": "stream",
     "text": [
      "2000.0\n"
     ]
    }
   ],
   "source": [
    "import pandas as pd\n",
    "import matplotlib.pyplot as plt\n",
    "\n",
    "df_copy = df.copy()\n",
    "df_copy = df_copy[df_copy['year'] >= 1920]\n",
    "total_counts = df_copy.groupby('decade').size()\n",
    "short_film_counts = df_copy[df_copy['duration'] < 3600].groupby('decade').size()\n",
    "print(short_film_counts)\n",
    "shortest_ratio = short_film_counts / total_counts\n",
    "print(shortest_ratio)\n",
    "plt.figure(figsize = (10,6))\n",
    "shortest_ratio.plot(kind = 'bar', color = 'green')\n",
    "plt.show()\n",
    "best_dec = short_film_counts.idxmax()\n",
    "print(best_dec)"
   ]
  },
  {
   "cell_type": "markdown",
   "metadata": {},
   "source": [
    "__Вопрос 6:__ И последний вопрос: фильмам какого жанра пользователи оставляют больше всего рецензий? Подумайте о  том, по какой метрике лучше всего смотреть. В ответе укажите жанр."
   ]
  },
  {
   "cell_type": "code",
   "execution_count": null,
   "metadata": {},
   "outputs": [
    {
     "name": "stdout",
     "output_type": "stream",
     "text": [
      "Жанр с наибольшим средним количеством рецензий на фильм: Thriller\n"
     ]
    }
   ],
   "source": [
    "\n",
    "df_filtered = df.drop(columns=['fn', 'tid', 'decade', 'title', 'wordsInTitle', 'url', 'imdbRating', 'duration', 'year', 'type',\n",
    "                               'nrOfWins', 'nrOfNominations', 'nrOfPhotos', 'nrOfNewsArticles', 'nrOfUserReviews', 'nrOfGenre'])\n",
    "genre_cols = df_filtered.drop(columns=['ratingCount'])\n",
    "\n",
    "genre_rev = genre_cols.multiply(df_filtered['ratingCount'], axis=0)\n",
    "genre_counts = genre_cols.sum()\n",
    "genre_avg_reviews = genre_rev.sum() / genre_counts\n",
    "\n",
    "max_avg_review_genre = genre_avg_reviews.idxmax()\n",
    "print(f\"Жанр с наибольшим средним количеством рецензий на фильм: {max_avg_review_genre}\")\n",
    "\n"
   ]
  },
  {
   "cell_type": "code",
   "execution_count": null,
   "metadata": {},
   "outputs": [],
   "source": []
  }
 ],
 "metadata": {
  "kernelspec": {
   "display_name": "Python 3",
   "language": "python",
   "name": "python3"
  },
  "language_info": {
   "codemirror_mode": {
    "name": "ipython",
    "version": 3
   },
   "file_extension": ".py",
   "mimetype": "text/x-python",
   "name": "python",
   "nbconvert_exporter": "python",
   "pygments_lexer": "ipython3",
   "version": "3.12.5"
  }
 },
 "nbformat": 4,
 "nbformat_minor": 2
}
