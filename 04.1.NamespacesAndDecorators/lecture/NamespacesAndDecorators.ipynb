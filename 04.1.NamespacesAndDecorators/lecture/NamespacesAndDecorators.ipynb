{
 "cells": [
  {
   "cell_type": "markdown",
   "metadata": {
    "pycharm": {
     "name": "#%% md\n"
    },
    "slideshow": {
     "slide_type": "slide"
    }
   },
   "source": [
    "<center>\n",
    "    <img src=\"https://upload.wikimedia.org/wikipedia/commons/a/a8/%D0%9B%D0%9E%D0%93%D0%9E_%D0%A8%D0%90%D0%94.png\" width=500px/>\n",
    "    <font>Python 2024</font><br/>\n",
    "    <br/>\n",
    "    <br/>\n",
    "    <b style=\"font-size: 2em\">Пространства имен. Декораторы</b><br/>\n",
    "    <br/>\n",
    "    <font>Ярослав Золотарёв, по материалам Дениса Сапожникова 🫡</font><br/>\n",
    "</center>"
   ]
  },
  {
   "cell_type": "markdown",
   "metadata": {
    "pycharm": {
     "name": "#%% md\n"
    },
    "slideshow": {
     "slide_type": "slide"
    }
   },
   "source": [
    "# Пространства имён (Namespaces)"
   ]
  },
  {
   "cell_type": "markdown",
   "metadata": {
    "pycharm": {
     "name": "#%% md\n"
    },
    "slideshow": {
     "slide_type": "slide"
    }
   },
   "source": [
    "### Четыре пространства имён в питоне\n",
    "\n",
    "1. Built-In\n",
    "2. Global\n",
    "3. Enclosing\n",
    "4. Local"
   ]
  },
  {
   "cell_type": "markdown",
   "metadata": {
    "slideshow": {
     "slide_type": "slide"
    }
   },
   "source": [
    "### Четыре пространства имён в питоне\n",
    "\n",
    "![img](https://static-assets.codecademy.com/Courses/Intermediate-Python/Types-of-Namespaces_3_final.gif)"
   ]
  },
  {
   "cell_type": "markdown",
   "metadata": {
    "pycharm": {
     "name": "#%% md\n"
    },
    "slideshow": {
     "slide_type": "slide"
    }
   },
   "source": [
    "### Built-In (встроенный namespace)"
   ]
  },
  {
   "cell_type": "code",
   "execution_count": 1,
   "metadata": {},
   "outputs": [
    {
     "name": "stdout",
     "output_type": "stream",
     "text": [
      "['ArithmeticError', 'AssertionError', 'AttributeError', 'BaseException', 'BaseExceptionGroup', 'BlockingIOError', 'BrokenPipeError', 'BufferError', 'BytesWarning', 'ChildProcessError', 'ConnectionAbortedError', 'ConnectionError', 'ConnectionRefusedError', 'ConnectionResetError', 'DeprecationWarning', 'EOFError', 'Ellipsis', 'EncodingWarning', 'EnvironmentError', 'Exception', 'ExceptionGroup', 'False', 'FileExistsError', 'FileNotFoundError', 'FloatingPointError', 'FutureWarning', 'GeneratorExit', 'IOError', 'ImportError', 'ImportWarning', 'IndentationError', 'IndexError', 'InterruptedError', 'IsADirectoryError', 'KeyError', 'KeyboardInterrupt', 'LookupError', 'MemoryError', 'ModuleNotFoundError', 'NameError', 'None', 'NotADirectoryError', 'NotImplemented', 'NotImplementedError', 'OSError', 'OverflowError', 'PendingDeprecationWarning', 'PermissionError', 'ProcessLookupError', 'RecursionError', 'ReferenceError', 'ResourceWarning', 'RuntimeError', 'RuntimeWarning', 'StopAsyncIteration', 'StopIteration', 'SyntaxError', 'SyntaxWarning', 'SystemError', 'SystemExit', 'TabError', 'TimeoutError', 'True', 'TypeError', 'UnboundLocalError', 'UnicodeDecodeError', 'UnicodeEncodeError', 'UnicodeError', 'UnicodeTranslateError', 'UnicodeWarning', 'UserWarning', 'ValueError', 'Warning', 'ZeroDivisionError', '__IPYTHON__', '__build_class__', '__debug__', '__doc__', '__import__', '__loader__', '__name__', '__package__', '__spec__', 'abs', 'aiter', 'all', 'anext', 'any', 'ascii', 'bin', 'bool', 'breakpoint', 'bytearray', 'bytes', 'callable', 'chr', 'classmethod', 'compile', 'complex', 'copyright', 'credits', 'delattr', 'dict', 'dir', 'display', 'divmod', 'enumerate', 'eval', 'exec', 'execfile', 'filter', 'float', 'format', 'frozenset', 'get_ipython', 'getattr', 'globals', 'hasattr', 'hash', 'help', 'hex', 'id', 'input', 'int', 'isinstance', 'issubclass', 'iter', 'len', 'license', 'list', 'locals', 'map', 'max', 'memoryview', 'min', 'next', 'object', 'oct', 'open', 'ord', 'pow', 'print', 'property', 'range', 'repr', 'reversed', 'round', 'runfile', 'set', 'setattr', 'slice', 'sorted', 'staticmethod', 'str', 'sum', 'super', 'tuple', 'type', 'vars', 'zip']\n"
     ]
    }
   ],
   "source": [
    "print(dir(__builtins__))"
   ]
  },
  {
   "cell_type": "code",
   "execution_count": 2,
   "metadata": {},
   "outputs": [
    {
     "name": "stdout",
     "output_type": "stream",
     "text": [
      "['ArithmeticError', 'AssertionError', 'AttributeError', 'BaseException', 'BaseExceptionGroup', 'BlockingIOError', 'BrokenPipeError', 'BufferError', 'BytesWarning', 'ChildProcessError', 'ConnectionAbortedError', 'ConnectionError', 'ConnectionRefusedError', 'ConnectionResetError', 'DeprecationWarning', 'EOFError', 'Ellipsis', 'EncodingWarning', 'EnvironmentError', 'Exception', 'ExceptionGroup', 'False', 'FileExistsError', 'FileNotFoundError', 'FloatingPointError', 'FutureWarning', 'GeneratorExit', 'IOError', 'ImportError', 'ImportWarning', 'IndentationError', 'IndexError', 'InterruptedError', 'IsADirectoryError', 'KeyError', 'KeyboardInterrupt', 'LookupError', 'MemoryError', 'ModuleNotFoundError', 'NameError', 'None', 'NotADirectoryError', 'NotImplemented', 'NotImplementedError', 'OSError', 'OverflowError', 'PendingDeprecationWarning', 'PermissionError', 'ProcessLookupError', 'RecursionError', 'ReferenceError', 'ResourceWarning', 'RuntimeError', 'RuntimeWarning', 'StopAsyncIteration', 'StopIteration', 'SyntaxError', 'SyntaxWarning', 'SystemError', 'SystemExit', 'TabError', 'TimeoutError', 'True', 'TypeError', 'UnboundLocalError', 'UnicodeDecodeError', 'UnicodeEncodeError', 'UnicodeError', 'UnicodeTranslateError', 'UnicodeWarning', 'UserWarning', 'ValueError', 'Warning', 'ZeroDivisionError', '__build_class__', '__debug__', '__doc__', '__import__', '__loader__', '__name__', '__package__', '__spec__', 'abs', 'aiter', 'all', 'anext', 'any', 'ascii', 'bin', 'bool', 'breakpoint', 'bytearray', 'bytes', 'callable', 'chr', 'classmethod', 'compile', 'complex', 'copyright', 'credits', 'delattr', 'dict', 'dir', 'divmod', 'enumerate', 'eval', 'exec', 'exit', 'filter', 'float', 'format', 'frozenset', 'getattr', 'globals', 'hasattr', 'hash', 'help', 'hex', 'id', 'input', 'int', 'isinstance', 'issubclass', 'iter', 'len', 'license', 'list', 'locals', 'map', 'max', 'memoryview', 'min', 'next', 'object', 'oct', 'open', 'ord', 'pow', 'print', 'property', 'quit', 'range', 'repr', 'reversed', 'round', 'set', 'setattr', 'slice', 'sorted', 'staticmethod', 'str', 'sum', 'super', 'tuple', 'type', 'vars', 'zip']\n"
     ]
    }
   ],
   "source": [
    "%%python3 \n",
    "print(dir(__builtins__))"
   ]
  },
  {
   "cell_type": "code",
   "execution_count": 3,
   "metadata": {},
   "outputs": [],
   "source": [
    "%%capture output228\n",
    "%%python3 \n",
    "print(dir(__builtins__))"
   ]
  },
  {
   "cell_type": "code",
   "execution_count": 4,
   "metadata": {},
   "outputs": [
    {
     "data": {
      "text/plain": [
       "{'__IPYTHON__', 'display', 'execfile', 'get_ipython', 'runfile'}"
      ]
     },
     "execution_count": 4,
     "metadata": {},
     "output_type": "execute_result"
    }
   ],
   "source": [
    "set(dir(__builtins__)) - set(eval(str(output228)))  # простите за eval"
   ]
  },
  {
   "cell_type": "markdown",
   "metadata": {
    "pycharm": {
     "name": "#%% md\n"
    },
    "slideshow": {
     "slide_type": "slide"
    }
   },
   "source": [
    "### Когда создается и сколько экземпляров"
   ]
  },
  {
   "cell_type": "markdown",
   "metadata": {
    "pycharm": {
     "name": "#%% md\n"
    },
    "slideshow": {
     "slide_type": "fragment"
    }
   },
   "source": [
    "* Создается в момент запуска скрипта и удаляется в момент завершения скрипта\n",
    "* Один на всю программу"
   ]
  },
  {
   "cell_type": "markdown",
   "metadata": {
    "pycharm": {
     "name": "#%% md\n"
    },
    "slideshow": {
     "slide_type": "slide"
    }
   },
   "source": [
    "### Global (глобальный namespace)"
   ]
  },
  {
   "cell_type": "code",
   "execution_count": 5,
   "metadata": {
    "pycharm": {
     "name": "#%%\n"
    },
    "slideshow": {
     "slide_type": "fragment"
    }
   },
   "outputs": [
    {
     "name": "stdout",
     "output_type": "stream",
     "text": [
      "<class 'dict'>\n"
     ]
    }
   ],
   "source": [
    "XxX = 1\n",
    "print(type(globals()))\n",
    "assert 'XxX' in globals()"
   ]
  },
  {
   "cell_type": "markdown",
   "metadata": {
    "pycharm": {
     "name": "#%% md\n"
    },
    "slideshow": {
     "slide_type": "slide"
    }
   },
   "source": [
    "### Находим несохраненный результат из блока"
   ]
  },
  {
   "cell_type": "code",
   "execution_count": 6,
   "metadata": {
    "pycharm": {
     "name": "#%%\n"
    },
    "slideshow": {
     "slide_type": "fragment"
    }
   },
   "outputs": [
    {
     "data": {
      "text/plain": [
       "6"
      ]
     },
     "execution_count": 6,
     "metadata": {},
     "output_type": "execute_result"
    }
   ],
   "source": [
    "sum([1, 2, 3])"
   ]
  },
  {
   "cell_type": "code",
   "execution_count": 7,
   "metadata": {
    "pycharm": {
     "name": "#%%\n"
    },
    "slideshow": {
     "slide_type": "fragment"
    }
   },
   "outputs": [
    {
     "name": "stdout",
     "output_type": "stream",
     "text": [
      "{'__name__': '__main__', '__doc__': 'Automatically created module for IPython interactive environment', '__package__': None, '__loader__': None, '__spec__': None, '__builtin__': <module 'builtins' (built-in)>, '__builtins__': <module 'builtins' (built-in)>, '_ih': ['', 'print(dir(__builtins__))', \"get_ipython().run_cell_magic('python3', '', 'print(dir(__builtins__))\\\\n')\", \"get_ipython().run_cell_magic('capture', 'output228', '%%python3 \\\\nprint(dir(__builtins__))\\\\n')\", 'set(dir(__builtins__)) - set(eval(str(output228)))  # простите за eval', \"XxX = 1\\nprint(type(globals()))\\nassert 'XxX' in globals()\", 'sum([1, 2, 3])', 'print(globals())'], '_oh': {4: {'display', 'execfile', '__IPYTHON__', 'get_ipython', 'runfile'}, 6: 6}, '_dh': [PosixPath('/mnt/d/Git_shit_2/private/04.1.NamespacesAndDecorators/lecture')], 'In': ['', 'print(dir(__builtins__))', \"get_ipython().run_cell_magic('python3', '', 'print(dir(__builtins__))\\\\n')\", \"get_ipython().run_cell_magic('capture', 'output228', '%%python3 \\\\nprint(dir(__builtins__))\\\\n')\", 'set(dir(__builtins__)) - set(eval(str(output228)))  # простите за eval', \"XxX = 1\\nprint(type(globals()))\\nassert 'XxX' in globals()\", 'sum([1, 2, 3])', 'print(globals())'], 'Out': {4: {'display', 'execfile', '__IPYTHON__', 'get_ipython', 'runfile'}, 6: 6}, 'get_ipython': <function get_ipython at 0x7f3a9463ad40>, 'exit': <IPython.core.autocall.ZMQExitAutocall object at 0x7f3a900f2db0>, 'quit': <IPython.core.autocall.ZMQExitAutocall object at 0x7f3a900f2db0>, 'open': <function open at 0x7f3a9401d3a0>, '_': 6, '__': {'display', 'execfile', '__IPYTHON__', 'get_ipython', 'runfile'}, '___': '', 'json': <module 'json' from '/home/qc7/.pyenv/versions/3.12.5/lib/python3.12/json/__init__.py'>, 'yapf_reformat': <function yapf_reformat at 0x7f3a826d77e0>, 'getsizeof': <built-in function getsizeof>, 'NamespaceMagics': <class 'IPython.core.magics.namespace.NamespaceMagics'>, '_nms': <IPython.core.magics.namespace.NamespaceMagics object at 0x7f3a81d0bdd0>, '_Jupyter': <ipykernel.zmqshell.ZMQInteractiveShell object at 0x7f3a9021eea0>, 'np': <module 'numpy' from '/mnt/d/Git_shit_2/private/shad_env3125/lib/python3.12/site-packages/numpy/__init__.py'>, '_getsizeof': <function _getsizeof at 0x7f3a801a34c0>, '_getshapeof': <function _getshapeof at 0x7f3a801a3240>, 'var_dic_list': <function var_dic_list at 0x7f3a826d6200>, '_i': 'sum([1, 2, 3])', '_ii': \"XxX = 1\\nprint(type(globals()))\\nassert 'XxX' in globals()\", '_iii': 'set(dir(__builtins__)) - set(eval(str(output228)))  # простите за eval', '_i1': 'print(dir(__builtins__))', '_i2': '%%python3 \\nprint(dir(__builtins__))', '_i3': '%%capture output228\\n%%python3 \\nprint(dir(__builtins__))', 'output228': <IPython.utils.capture.CapturedIO object at 0x7f3a826cb2c0>, '_i4': 'set(dir(__builtins__)) - set(eval(str(output228)))  # простите за eval', '_4': {'display', 'execfile', '__IPYTHON__', 'get_ipython', 'runfile'}, '_i5': \"XxX = 1\\nprint(type(globals()))\\nassert 'XxX' in globals()\", 'XxX': 1, '_i6': 'sum([1, 2, 3])', '_6': 6, '_i7': 'print(globals())'}\n"
     ]
    }
   ],
   "source": [
    "print(globals())"
   ]
  },
  {
   "cell_type": "code",
   "execution_count": 8,
   "metadata": {
    "pycharm": {
     "name": "#%%\n"
    },
    "slideshow": {
     "slide_type": "fragment"
    }
   },
   "outputs": [
    {
     "data": {
      "text/plain": [
       "'sum([1, 2, 3])'"
      ]
     },
     "execution_count": 8,
     "metadata": {},
     "output_type": "execute_result"
    }
   ],
   "source": [
    "_i6"
   ]
  },
  {
   "cell_type": "code",
   "execution_count": 9,
   "metadata": {},
   "outputs": [],
   "source": [
    "del _i6"
   ]
  },
  {
   "cell_type": "code",
   "execution_count": 10,
   "metadata": {},
   "outputs": [
    {
     "name": "stdout",
     "output_type": "stream",
     "text": [
      "Variable deleted!\n"
     ]
    }
   ],
   "source": [
    "try:\n",
    "    _i6\n",
    "except NameError:\n",
    "    print(\"Variable deleted!\")"
   ]
  },
  {
   "cell_type": "markdown",
   "metadata": {
    "hide_input": true,
    "pycharm": {
     "name": "#%% md\n"
    },
    "slideshow": {
     "slide_type": "slide"
    }
   },
   "source": [
    "### Когда создается и сколько экземпляров"
   ]
  },
  {
   "cell_type": "markdown",
   "metadata": {
    "pycharm": {
     "name": "#%% md\n"
    },
    "slideshow": {
     "slide_type": "fragment"
    }
   },
   "source": [
    "* Создается в момент запуска скрипта и удаляется в момент завершения скрипта\n",
    "* У каждого модуля свой global namespace"
   ]
  },
  {
   "cell_type": "markdown",
   "metadata": {
    "pycharm": {
     "name": "#%% md\n"
    },
    "slideshow": {
     "slide_type": "slide"
    }
   },
   "source": [
    "### Enclosing and local namespaces"
   ]
  },
  {
   "cell_type": "code",
   "execution_count": 11,
   "metadata": {
    "pycharm": {
     "name": "#%%\n"
    },
    "slideshow": {
     "slide_type": "fragment"
    }
   },
   "outputs": [
    {
     "name": "stdout",
     "output_type": "stream",
     "text": [
      "in g: 2\n",
      "in f: 1\n",
      "global: 0\n"
     ]
    }
   ],
   "source": [
    "x = 0\n",
    "def f():\n",
    "    x = 1\n",
    "    def g():\n",
    "#         print(f\"in g: {x}\")  # playground\n",
    "        x = 2  # playground\n",
    "        print(f\"in g: {x}\")\n",
    "    g()\n",
    "    print(f\"in f: {x}\")\n",
    "f()\n",
    "print(f\"global: {x}\")"
   ]
  },
  {
   "cell_type": "markdown",
   "metadata": {
    "pycharm": {
     "name": "#%% md\n"
    },
    "slideshow": {
     "slide_type": "fragment"
    }
   },
   "source": [
    "<div class=\"alert alert-danger\">\n",
    "<b>Антипаттерн: </b> использование вложенных функций\n",
    "</div>"
   ]
  },
  {
   "cell_type": "code",
   "execution_count": 12,
   "metadata": {
    "pycharm": {
     "name": "#%%\n"
    },
    "slideshow": {
     "slide_type": "fragment"
    }
   },
   "outputs": [
    {
     "name": "stdout",
     "output_type": "stream",
     "text": [
      "{'x': 10, 'y': 1}\n"
     ]
    }
   ],
   "source": [
    "def f(x):\n",
    "    y = 1\n",
    "    print(locals())\n",
    "f(10)"
   ]
  },
  {
   "cell_type": "markdown",
   "metadata": {
    "pycharm": {
     "name": "#%% md\n"
    },
    "slideshow": {
     "slide_type": "slide"
    }
   },
   "source": [
    "### Функции создают свой namespace"
   ]
  },
  {
   "cell_type": "code",
   "execution_count": 13,
   "metadata": {
    "pycharm": {
     "name": "#%%\n"
    },
    "slideshow": {
     "slide_type": "fragment"
    }
   },
   "outputs": [
    {
     "ename": "NameError",
     "evalue": "name 'inner_variable' is not defined",
     "output_type": "error",
     "traceback": [
      "\u001b[0;31m---------------------------------------------------------------------------\u001b[0m",
      "\u001b[0;31mNameError\u001b[0m                                 Traceback (most recent call last)",
      "Cell \u001b[0;32mIn[13], line 5\u001b[0m\n\u001b[1;32m      2\u001b[0m     inner_variable \u001b[38;5;241m=\u001b[39m \u001b[38;5;241m42\u001b[39m\n\u001b[1;32m      4\u001b[0m function()\n\u001b[0;32m----> 5\u001b[0m \u001b[43minner_variable\u001b[49m\n",
      "\u001b[0;31mNameError\u001b[0m: name 'inner_variable' is not defined"
     ]
    }
   ],
   "source": [
    "def function():\n",
    "    inner_variable = 42\n",
    "\n",
    "function()\n",
    "inner_variable"
   ]
  },
  {
   "cell_type": "code",
   "execution_count": 14,
   "metadata": {
    "pycharm": {
     "name": "#%%\n"
    },
    "slideshow": {
     "slide_type": "slide"
    }
   },
   "outputs": [
    {
     "name": "stdout",
     "output_type": "stream",
     "text": [
      "{'arg': 1}\n"
     ]
    }
   ],
   "source": [
    "def function(arg):\n",
    "    print(locals())\n",
    "\n",
    "function(1)"
   ]
  },
  {
   "cell_type": "code",
   "execution_count": 15,
   "metadata": {},
   "outputs": [
    {
     "name": "stdout",
     "output_type": "stream",
     "text": [
      "False\n"
     ]
    }
   ],
   "source": [
    "def function(arg):\n",
    "    print(locals() == globals())\n",
    "\n",
    "function(1)"
   ]
  },
  {
   "cell_type": "code",
   "execution_count": 16,
   "metadata": {
    "pycharm": {
     "name": "#%%\n"
    },
    "slideshow": {
     "slide_type": "fragment"
    }
   },
   "outputs": [
    {
     "data": {
      "text/plain": [
       "True"
      ]
     },
     "execution_count": 16,
     "metadata": {},
     "output_type": "execute_result"
    }
   ],
   "source": [
    "locals() == globals()"
   ]
  },
  {
   "cell_type": "markdown",
   "metadata": {
    "pycharm": {
     "name": "#%% md\n"
    },
    "slideshow": {
     "slide_type": "slide"
    }
   },
   "source": [
    "### Циклы и условия не создают свой namespace"
   ]
  },
  {
   "cell_type": "code",
   "execution_count": 17,
   "metadata": {
    "pycharm": {
     "name": "#%%\n"
    },
    "slideshow": {
     "slide_type": "fragment"
    }
   },
   "outputs": [
    {
     "name": "stdout",
     "output_type": "stream",
     "text": [
      "2\n",
      "2\n"
     ]
    }
   ],
   "source": [
    "for k in range(3):\n",
    "    in_for = k\n",
    "\n",
    "print(in_for)\n",
    "print(k)"
   ]
  },
  {
   "cell_type": "code",
   "execution_count": 18,
   "metadata": {
    "pycharm": {
     "name": "#%%\n"
    },
    "slideshow": {
     "slide_type": "fragment"
    }
   },
   "outputs": [
    {
     "name": "stdout",
     "output_type": "stream",
     "text": [
      "2\n"
     ]
    }
   ],
   "source": [
    "if True:\n",
    "    in_if = 2\n",
    "    \n",
    "print(in_if)"
   ]
  },
  {
   "cell_type": "markdown",
   "metadata": {
    "pycharm": {
     "name": "#%% md\n"
    },
    "slideshow": {
     "slide_type": "slide"
    }
   },
   "source": [
    "### Генераторы создают namespace"
   ]
  },
  {
   "cell_type": "code",
   "execution_count": 19,
   "metadata": {
    "pycharm": {
     "name": "#%%\n"
    },
    "slideshow": {
     "slide_type": "fragment"
    }
   },
   "outputs": [
    {
     "name": "stdout",
     "output_type": "stream",
     "text": [
      "Hello\n"
     ]
    }
   ],
   "source": [
    "i = 'Hello'\n",
    "[i for i in range(10)]\n",
    "print(i)"
   ]
  },
  {
   "cell_type": "code",
   "execution_count": 20,
   "metadata": {},
   "outputs": [
    {
     "name": "stdout",
     "output_type": "stream",
     "text": [
      "World\n"
     ]
    }
   ],
   "source": [
    "i = 'World'\n",
    "\n",
    "def _gen(x):\n",
    "    for i in range(x):\n",
    "        yield i\n",
    "\n",
    "for k in _gen(3):\n",
    "    pass\n",
    "\n",
    "print(i)"
   ]
  },
  {
   "cell_type": "markdown",
   "metadata": {
    "pycharm": {
     "name": "#%% md\n"
    },
    "slideshow": {
     "slide_type": "slide"
    }
   },
   "source": [
    "### Variable Scope & LEGB rule"
   ]
  },
  {
   "cell_type": "markdown",
   "metadata": {
    "pycharm": {
     "name": "#%% md\n"
    },
    "slideshow": {
     "slide_type": "fragment"
    }
   },
   "source": [
    "1. Local\n",
    "2. Enclosing\n",
    "3. Global\n",
    "4. Built-in"
   ]
  },
  {
   "cell_type": "code",
   "execution_count": 21,
   "metadata": {
    "pycharm": {
     "name": "#%%\n"
    },
    "slideshow": {
     "slide_type": "slide"
    }
   },
   "outputs": [
    {
     "name": "stdout",
     "output_type": "stream",
     "text": [
      "func: global_var\n",
      "func: local_var\n",
      "global_var\n",
      "not_local_var\n"
     ]
    }
   ],
   "source": [
    "global_var = 'global_var'\n",
    "local_var = 'not_local_var'\n",
    "\n",
    "def func(): \n",
    "    local_var = 'local_var'\n",
    "    # global_var is in global namespace\n",
    "    print(f'func: {global_var}')\n",
    "    print(f'func: {local_var}')\n",
    "\n",
    "func()\n",
    "print(global_var)\n",
    "print(local_var)"
   ]
  },
  {
   "cell_type": "code",
   "execution_count": 22,
   "metadata": {},
   "outputs": [
    {
     "name": "stdout",
     "output_type": "stream",
     "text": [
      "Builtin Return the sum of a 'start' value (default: 0) plu\n",
      "NP \n",
      "    Sum of array elements over a given axis.\n",
      "\n",
      "   \n"
     ]
    }
   ],
   "source": [
    "from builtins import sum\n",
    "print('Builtin', sum.__doc__[:50])\n",
    "from numpy import sum\n",
    "print('NP', sum.__doc__[:50])\n",
    "from builtins import sum"
   ]
  },
  {
   "cell_type": "code",
   "execution_count": 23,
   "metadata": {
    "pycharm": {
     "name": "#%%\n"
    },
    "slideshow": {
     "slide_type": "fragment"
    }
   },
   "outputs": [
    {
     "ename": "NameError",
     "evalue": "name 'local_variable' is not defined",
     "output_type": "error",
     "traceback": [
      "\u001b[0;31m---------------------------------------------------------------------------\u001b[0m",
      "\u001b[0;31mNameError\u001b[0m                                 Traceback (most recent call last)",
      "Cell \u001b[0;32mIn[23], line 1\u001b[0m\n\u001b[0;32m----> 1\u001b[0m \u001b[38;5;28;01mdel\u001b[39;00m \u001b[43mlocal_variable\u001b[49m\n\u001b[1;32m      2\u001b[0m \u001b[38;5;66;03m# import gc\u001b[39;00m\n\u001b[1;32m      3\u001b[0m \u001b[38;5;66;03m# gc.collect()\u001b[39;00m\n",
      "\u001b[0;31mNameError\u001b[0m: name 'local_variable' is not defined"
     ]
    }
   ],
   "source": [
    "del local_variable\n",
    "# import gc\n",
    "# gc.collect()"
   ]
  },
  {
   "cell_type": "markdown",
   "metadata": {
    "pycharm": {
     "name": "#%% md\n"
    },
    "slideshow": {
     "slide_type": "slide"
    }
   },
   "source": [
    "### Вложенные функции"
   ]
  },
  {
   "cell_type": "code",
   "execution_count": 24,
   "metadata": {
    "pycharm": {
     "name": "#%%\n"
    },
    "slideshow": {
     "slide_type": "fragment"
    }
   },
   "outputs": [
    {
     "name": "stdout",
     "output_type": "stream",
     "text": [
      "outer in inner: foo\n",
      "inner in inner: bar\n",
      "outer in outer: foo\n"
     ]
    },
    {
     "ename": "NameError",
     "evalue": "name 'inner_var' is not defined",
     "output_type": "error",
     "traceback": [
      "\u001b[0;31m---------------------------------------------------------------------------\u001b[0m",
      "\u001b[0;31mNameError\u001b[0m                                 Traceback (most recent call last)",
      "Cell \u001b[0;32mIn[24], line 14\u001b[0m\n\u001b[1;32m     11\u001b[0m     \u001b[38;5;28mprint\u001b[39m(\u001b[38;5;124m'\u001b[39m\u001b[38;5;124mouter in outer:\u001b[39m\u001b[38;5;124m'\u001b[39m, outer_var)\n\u001b[1;32m     12\u001b[0m     \u001b[38;5;28mprint\u001b[39m(\u001b[38;5;124m'\u001b[39m\u001b[38;5;124minner in outer:\u001b[39m\u001b[38;5;124m'\u001b[39m, inner_var)\n\u001b[0;32m---> 14\u001b[0m \u001b[43mouter\u001b[49m\u001b[43m(\u001b[49m\u001b[43m)\u001b[49m\n",
      "Cell \u001b[0;32mIn[24], line 12\u001b[0m, in \u001b[0;36mouter\u001b[0;34m()\u001b[0m\n\u001b[1;32m      9\u001b[0m inner()\n\u001b[1;32m     11\u001b[0m \u001b[38;5;28mprint\u001b[39m(\u001b[38;5;124m'\u001b[39m\u001b[38;5;124mouter in outer:\u001b[39m\u001b[38;5;124m'\u001b[39m, outer_var)\n\u001b[0;32m---> 12\u001b[0m \u001b[38;5;28mprint\u001b[39m(\u001b[38;5;124m'\u001b[39m\u001b[38;5;124minner in outer:\u001b[39m\u001b[38;5;124m'\u001b[39m, \u001b[43minner_var\u001b[49m)\n",
      "\u001b[0;31mNameError\u001b[0m: name 'inner_var' is not defined"
     ]
    }
   ],
   "source": [
    "def outer():\n",
    "    outer_var = 'foo'\n",
    "\n",
    "    def inner():\n",
    "        inner_var = 'bar'\n",
    "        print('outer in inner:', outer_var)\n",
    "        print('inner in inner:', inner_var)\n",
    "\n",
    "    inner()\n",
    "\n",
    "    print('outer in outer:', outer_var)\n",
    "    print('inner in outer:', inner_var)\n",
    "\n",
    "outer()"
   ]
  },
  {
   "cell_type": "markdown",
   "metadata": {
    "pycharm": {
     "name": "#%% md\n"
    },
    "slideshow": {
     "slide_type": "slide"
    }
   },
   "source": [
    "### Замечание\n",
    "Функции имеют доступ к внешним пространствам имён относительно того места где они были **определены**, а не **вызваны**"
   ]
  },
  {
   "cell_type": "code",
   "execution_count": 25,
   "metadata": {
    "pycharm": {
     "name": "#%%\n"
    },
    "slideshow": {
     "slide_type": "fragment"
    }
   },
   "outputs": [
    {
     "ename": "NameError",
     "evalue": "name 'it' is not defined",
     "output_type": "error",
     "traceback": [
      "\u001b[0;31m---------------------------------------------------------------------------\u001b[0m",
      "\u001b[0;31mNameError\u001b[0m                                 Traceback (most recent call last)",
      "Cell \u001b[0;32mIn[25], line 9\u001b[0m\n\u001b[1;32m      6\u001b[0m         func()\n\u001b[1;32m      7\u001b[0m     \u001b[38;5;28mprint\u001b[39m(it)\n\u001b[0;32m----> 9\u001b[0m \u001b[43mq\u001b[49m\u001b[43m(\u001b[49m\u001b[43mf\u001b[49m\u001b[43m)\u001b[49m\n",
      "Cell \u001b[0;32mIn[25], line 6\u001b[0m, in \u001b[0;36mq\u001b[0;34m(func)\u001b[0m\n\u001b[1;32m      4\u001b[0m \u001b[38;5;28;01mdef\u001b[39;00m \u001b[38;5;21mq\u001b[39m(func):\n\u001b[1;32m      5\u001b[0m     \u001b[38;5;28;01mfor\u001b[39;00m it \u001b[38;5;129;01min\u001b[39;00m \u001b[38;5;28mrange\u001b[39m(\u001b[38;5;241m10\u001b[39m):\n\u001b[0;32m----> 6\u001b[0m         \u001b[43mfunc\u001b[49m\u001b[43m(\u001b[49m\u001b[43m)\u001b[49m\n\u001b[1;32m      7\u001b[0m     \u001b[38;5;28mprint\u001b[39m(it)\n",
      "Cell \u001b[0;32mIn[25], line 2\u001b[0m, in \u001b[0;36mf\u001b[0;34m()\u001b[0m\n\u001b[1;32m      1\u001b[0m \u001b[38;5;28;01mdef\u001b[39;00m \u001b[38;5;21mf\u001b[39m():\n\u001b[0;32m----> 2\u001b[0m     \u001b[38;5;28mprint\u001b[39m(\u001b[43mit\u001b[49m)\n",
      "\u001b[0;31mNameError\u001b[0m: name 'it' is not defined"
     ]
    }
   ],
   "source": [
    "def f():\n",
    "    print(it)\n",
    "\n",
    "def q(func):\n",
    "    for it in range(10):\n",
    "        func()\n",
    "    print(it)\n",
    "\n",
    "q(f)"
   ]
  },
  {
   "cell_type": "markdown",
   "metadata": {
    "pycharm": {
     "name": "#%% md\n"
    },
    "slideshow": {
     "slide_type": "slide"
    }
   },
   "source": [
    "### Когда создется объект на запись?"
   ]
  },
  {
   "cell_type": "code",
   "execution_count": 26,
   "metadata": {
    "pycharm": {
     "name": "#%%\n"
    },
    "slideshow": {
     "slide_type": "fragment"
    }
   },
   "outputs": [
    {
     "name": "stdout",
     "output_type": "stream",
     "text": [
      "func  : global_var_modified\n",
      "global: global_var\n"
     ]
    }
   ],
   "source": [
    "global_var = 'global_var'\n",
    "\n",
    "def func():\n",
    "#     print('func0: ', global_var)  What will happen here?\n",
    "    global_var = 'global_var_modified'\n",
    "    print('func  :', global_var)\n",
    "\n",
    "func()\n",
    "print('global:', global_var)"
   ]
  },
  {
   "cell_type": "markdown",
   "metadata": {
    "pycharm": {
     "name": "#%% md\n"
    },
    "slideshow": {
     "slide_type": "slide"
    }
   },
   "source": [
    "### global "
   ]
  },
  {
   "cell_type": "code",
   "execution_count": 27,
   "metadata": {
    "pycharm": {
     "name": "#%%\n"
    },
    "scrolled": true,
    "slideshow": {
     "slide_type": "fragment"
    }
   },
   "outputs": [
    {
     "name": "stdout",
     "output_type": "stream",
     "text": [
      "global_var_modified\n",
      "global_var_modified\n"
     ]
    }
   ],
   "source": [
    "global_var = 'global_var'\n",
    "\n",
    "def func():\n",
    "    global global_var\n",
    "    global_var = 'global_var_modified'\n",
    "#     print(locals())\n",
    "    print(global_var)\n",
    "\n",
    "func()\n",
    "print(global_var)"
   ]
  },
  {
   "cell_type": "markdown",
   "metadata": {
    "pycharm": {
     "name": "#%% md\n"
    },
    "slideshow": {
     "slide_type": "fragment"
    }
   },
   "source": [
    "<div class=\"alert alert-danger\">\n",
    "<b>Антипаттерн: </b> использование global\n",
    "</div>"
   ]
  },
  {
   "cell_type": "code",
   "execution_count": 28,
   "metadata": {
    "pycharm": {
     "name": "#%%\n"
    },
    "slideshow": {
     "slide_type": "slide"
    }
   },
   "outputs": [
    {
     "name": "stdout",
     "output_type": "stream",
     "text": [
      "new_global_var\n",
      "new_global_var\n"
     ]
    }
   ],
   "source": [
    "def func():\n",
    "    # global can create behaviour you probably don't want\n",
    "    global new_global_var\n",
    "    new_global_var = 'new_global_var'\n",
    "    print(new_global_var)\n",
    "\n",
    "func()\n",
    "print(new_global_var)"
   ]
  },
  {
   "cell_type": "markdown",
   "metadata": {
    "pycharm": {
     "name": "#%% md\n"
    },
    "slideshow": {
     "slide_type": "fragment"
    }
   },
   "source": [
    "<div class=\"alert alert-danger\">\n",
    "<b>Антипаттерн: </b> использование global\n",
    "</div>"
   ]
  },
  {
   "cell_type": "markdown",
   "metadata": {
    "pycharm": {
     "name": "#%% md\n"
    },
    "slideshow": {
     "slide_type": "slide"
    }
   },
   "source": [
    "### Проблема"
   ]
  },
  {
   "cell_type": "code",
   "execution_count": 29,
   "metadata": {
    "pycharm": {
     "name": "#%%\n"
    },
    "slideshow": {
     "slide_type": "fragment"
    }
   },
   "outputs": [
    {
     "name": "stdout",
     "output_type": "stream",
     "text": [
      "from global: 1\n",
      "from inner: inner\n",
      "from outer: outer\n",
      "from global: inner\n"
     ]
    }
   ],
   "source": [
    "var = 1\n",
    "\n",
    "def outer():\n",
    "    var = 'outer'\n",
    "\n",
    "    def inner():\n",
    "        global var\n",
    "        print('from global:', var)\n",
    "        var = 'inner'\n",
    "        print('from inner:', var)\n",
    "\n",
    "    inner()\n",
    "    print('from outer:', var)\n",
    "\n",
    "outer()\n",
    "print('from global:', var)\n",
    "\n",
    "# cleanup\n",
    "del var"
   ]
  },
  {
   "cell_type": "markdown",
   "metadata": {
    "pycharm": {
     "name": "#%% md\n"
    },
    "slideshow": {
     "slide_type": "slide"
    }
   },
   "source": [
    "### Решение: nonlocal"
   ]
  },
  {
   "cell_type": "code",
   "execution_count": 30,
   "metadata": {
    "pycharm": {
     "name": "#%%\n"
    },
    "scrolled": true,
    "slideshow": {
     "slide_type": "fragment"
    }
   },
   "outputs": [
    {
     "name": "stdout",
     "output_type": "stream",
     "text": [
      "var in inner 1: outer\n",
      "var in inner 2: inner\n",
      "var in outer: inner\n",
      "var in global: 1\n"
     ]
    }
   ],
   "source": [
    "var = 1\n",
    "\n",
    "def outer():\n",
    "    var = 'outer'\n",
    "\n",
    "    def inner():\n",
    "#         print('var in inner 0:', var)  # SyntaxError\n",
    "        nonlocal var\n",
    "        print('var in inner 1:', var)\n",
    "        var = 'inner'\n",
    "        print('var in inner 2:', var)\n",
    "\n",
    "    inner()    \n",
    "    print('var in outer:', var)\n",
    "\n",
    "outer()\n",
    "print('var in global:', var)\n",
    "\n",
    "del var"
   ]
  },
  {
   "cell_type": "markdown",
   "metadata": {
    "pycharm": {
     "name": "#%% md\n"
    }
   },
   "source": [
    "<div class=\"alert alert-danger\">\n",
    "<b>Антипаттерн: </b> использование nonlocal\n",
    "</div>"
   ]
  },
  {
   "cell_type": "code",
   "execution_count": 31,
   "metadata": {
    "pycharm": {
     "name": "#%%\n"
    },
    "slideshow": {
     "slide_type": "skip"
    }
   },
   "outputs": [
    {
     "name": "stdout",
     "output_type": "stream",
     "text": [
      "variable: value\n",
      "var: global value\n",
      "variable: global value\n",
      "var: global value\n"
     ]
    }
   ],
   "source": [
    "# Partial reuse of enclosing variables\n",
    "var = 'global value'\n",
    "\n",
    "def foo(variable, flag=False):\n",
    "    def bar():\n",
    "        nonlocal variable\n",
    "        if flag:\n",
    "            variable = 'value'\n",
    "        print('variable:', variable)\n",
    "    return bar()\n",
    "\n",
    "foo(var, flag=True)\n",
    "print('var:', var)\n",
    "foo(var, flag=False)\n",
    "print('var:', var)"
   ]
  },
  {
   "cell_type": "markdown",
   "metadata": {
    "pycharm": {
     "name": "#%% md\n"
    },
    "slideshow": {
     "slide_type": "slide"
    }
   },
   "source": [
    "### Решение через __setattr__"
   ]
  },
  {
   "cell_type": "code",
   "execution_count": 32,
   "metadata": {
    "pycharm": {
     "name": "#%%\n"
    },
    "slideshow": {
     "slide_type": "fragment"
    }
   },
   "outputs": [
    {
     "name": "stdout",
     "output_type": "stream",
     "text": [
      "inner-0: v1\n",
      "inner-1: v2\n",
      "outer: v2\n",
      "global: v2\n"
     ]
    }
   ],
   "source": [
    "# without nonlocal\n",
    "\n",
    "def outer(): \n",
    "    outer.var = 'v1'\n",
    "\n",
    "    def inner():\n",
    "        print('inner-0:', outer.var)\n",
    "        outer.var = 'v2'\n",
    "        print('inner-1:', outer.var)\n",
    "\n",
    "    inner()\n",
    "    print('outer:', outer.var)\n",
    "\n",
    "\n",
    "outer()\n",
    "print('global:', outer.var)"
   ]
  },
  {
   "cell_type": "markdown",
   "metadata": {
    "pycharm": {
     "name": "#%% md\n"
    }
   },
   "source": [
    "<div class=\"alert alert-danger\">\n",
    "<b>Антипаттерн: </b> использование атрибутов функций\n",
    "</div>"
   ]
  },
  {
   "cell_type": "markdown",
   "metadata": {
    "pycharm": {
     "name": "#%% md\n"
    },
    "slideshow": {
     "slide_type": "skip"
    }
   },
   "source": [
    "### Где теперь лежит переменная?"
   ]
  },
  {
   "cell_type": "code",
   "execution_count": 33,
   "metadata": {
    "pycharm": {
     "name": "#%%\n"
    },
    "slideshow": {
     "slide_type": "skip"
    }
   },
   "outputs": [
    {
     "name": "stdout",
     "output_type": "stream",
     "text": [
      "from inner : outer\n",
      "from global: global\n"
     ]
    }
   ],
   "source": [
    "def outer():\n",
    "    enclosing_var = 'outer'\n",
    "\n",
    "    def inner():\n",
    "        print('from inner :', enclosing_var)\n",
    "\n",
    "    return inner\n",
    "\n",
    "enclosing_var = 'global'\n",
    "outer()()\n",
    "print('from global:', enclosing_var)"
   ]
  },
  {
   "cell_type": "markdown",
   "metadata": {
    "pycharm": {
     "name": "#%% md\n"
    },
    "slideshow": {
     "slide_type": "slide"
    }
   },
   "source": [
    "## Замыкания [Closures]\n",
    "_In computer programming languages, a closure is a function together with a referencing environment of that function. A closure function is any function that uses a variable that is defined in an environment (or scope) that is external to that function, and is accessible within the function when invoked from a scope in which that free variable is not defined._"
   ]
  },
  {
   "cell_type": "markdown",
   "metadata": {
    "pycharm": {
     "name": "#%% md\n"
    },
    "slideshow": {
     "slide_type": "slide"
    }
   },
   "source": [
    "Существования замыканий следует из правила LEGB и возможностью оперировать с функциями как обьектами."
   ]
  },
  {
   "cell_type": "code",
   "execution_count": 34,
   "metadata": {
    "pycharm": {
     "name": "#%%\n"
    },
    "slideshow": {
     "slide_type": "fragment"
    }
   },
   "outputs": [],
   "source": [
    "from typing import Callable, TypeVar\n",
    "_T = TypeVar(name='_T', bound=(str, int, list, ...))  # spoilers\n",
    "\n",
    "def make_multiplicator(multiplier: int) -> Callable[[_T], _T]:\n",
    "    def _multiplicator(data: _T) -> _T:\n",
    "        return data * multiplier\n",
    "    return _multiplicator"
   ]
  },
  {
   "cell_type": "code",
   "execution_count": 35,
   "metadata": {
    "pycharm": {
     "name": "#%%\n"
    },
    "slideshow": {
     "slide_type": "fragment"
    }
   },
   "outputs": [
    {
     "data": {
      "text/plain": [
       "'AABBB'"
      ]
     },
     "execution_count": 35,
     "metadata": {},
     "output_type": "execute_result"
    }
   ],
   "source": [
    "doubler = make_multiplicator(2)\n",
    "tripler = make_multiplicator(3)\n",
    "\n",
    "doubler('A') + tripler('B')"
   ]
  },
  {
   "cell_type": "code",
   "execution_count": 36,
   "metadata": {
    "pycharm": {
     "name": "#%%\n"
    },
    "slideshow": {
     "slide_type": "fragment"
    }
   },
   "outputs": [
    {
     "data": {
      "text/plain": [
       "14"
      ]
     },
     "execution_count": 36,
     "metadata": {},
     "output_type": "execute_result"
    }
   ],
   "source": [
    "make_multiplicator(2)(7)"
   ]
  },
  {
   "cell_type": "code",
   "execution_count": 37,
   "metadata": {},
   "outputs": [
    {
     "name": "stdout",
     "output_type": "stream",
     "text": [
      "25\n",
      "7\n"
     ]
    }
   ],
   "source": [
    "from typing import Callable, TypeVar\n",
    "\n",
    "def make_polynom(coefs: list[float]) -> Callable[[float], float]:\n",
    "    def _polynom(x: float) -> float:\n",
    "        return sum(coef * x ** idx for idx, coef in enumerate(coefs))\n",
    "    return _polynom\n",
    "\n",
    "_pow2 = make_polynom([0, 0, 1])\n",
    "print(_pow2(5))\n",
    "\n",
    "_two_x_plus_1 = make_polynom([1, 2])\n",
    "print(_two_x_plus_1(3))"
   ]
  },
  {
   "cell_type": "markdown",
   "metadata": {
    "pycharm": {
     "name": "#%% md\n"
    },
    "slideshow": {
     "slide_type": "fragment"
    }
   },
   "source": [
    "<div class=\"alert alert-danger\">\n",
    "<b>Антипаттерн: </b> использование сложных замыканий\n",
    "</div>"
   ]
  },
  {
   "cell_type": "markdown",
   "metadata": {},
   "source": [
    "### Работаем с функциями как с классами"
   ]
  },
  {
   "cell_type": "code",
   "execution_count": 38,
   "metadata": {
    "pycharm": {
     "name": "#%%\n"
    },
    "slideshow": {
     "slide_type": "slide"
    }
   },
   "outputs": [
    {
     "name": "stdout",
     "output_type": "stream",
     "text": [
      "100 100\n",
      "1000000 100\n"
     ]
    }
   ],
   "source": [
    "def value_factory(value=10):\n",
    "    def _value_getter():\n",
    "        return value\n",
    "\n",
    "    def _value_setter(new_value):\n",
    "        nonlocal value\n",
    "        value = new_value\n",
    "        return value\n",
    "    \n",
    "    return _value_getter, _value_setter\n",
    "\n",
    "get_value, set_value = value_factory(100)\n",
    "get_value2, set_value2 = value_factory(100)\n",
    "print(get_value(), get_value2())\n",
    "\n",
    "set_value(10**6)\n",
    "\n",
    "print(get_value(), get_value2())"
   ]
  },
  {
   "cell_type": "markdown",
   "metadata": {
    "pycharm": {
     "name": "#%% md\n"
    },
    "slideshow": {
     "slide_type": "fragment"
    }
   },
   "source": [
    "<div class=\"alert alert-danger\">\n",
    "<b>Антипаттерн: </b> использование замыканий вместо классов\n",
    "</div>"
   ]
  },
  {
   "cell_type": "code",
   "execution_count": 39,
   "metadata": {
    "pycharm": {
     "name": "#%%\n"
    },
    "slideshow": {
     "slide_type": "slide"
    }
   },
   "outputs": [
    {
     "name": "stdout",
     "output_type": "stream",
     "text": [
      "15\n",
      "123\n",
      "145\n"
     ]
    }
   ],
   "source": [
    "def make_adder(x):\n",
    "    def add(y):\n",
    "        return x + y\n",
    "\n",
    "    def zxc(new_x):\n",
    "        nonlocal x\n",
    "        x = new_x\n",
    "\n",
    "    add.update = zxc\n",
    "    return add\n",
    "\n",
    "\n",
    "adder = make_adder(10)\n",
    "print(adder(5))\n",
    "\n",
    "adder.update(100)\n",
    "print(adder(23))\n",
    "print(adder(45))"
   ]
  },
  {
   "cell_type": "markdown",
   "metadata": {},
   "source": [
    "<div class=\"alert alert-danger\">\n",
    "<b>Антипаттерн: </b> использование замыканий вместо классов\n",
    "</div>"
   ]
  },
  {
   "cell_type": "markdown",
   "metadata": {
    "pycharm": {
     "name": "#%% md\n"
    },
    "slideshow": {
     "slide_type": "slide"
    }
   },
   "source": [
    "\n",
    "# Декораторы"
   ]
  },
  {
   "cell_type": "code",
   "execution_count": 40,
   "metadata": {
    "pycharm": {
     "name": "#%%\n"
    },
    "slideshow": {
     "slide_type": "slide"
    }
   },
   "outputs": [
    {
     "name": "stdout",
     "output_type": "stream",
     "text": [
      "[1, 2, 3]\n"
     ]
    },
    {
     "name": "stderr",
     "output_type": "stream",
     "text": [
      "print is deprecated!\n"
     ]
    }
   ],
   "source": [
    "import sys\n",
    "\n",
    "def deprecated(func):\n",
    "    def inner(*args, **kwargs):\n",
    "        print(f'{func.__name__} is deprecated!', file=sys.stderr)\n",
    "        return func(*args, **kwargs)\n",
    "    return inner\n",
    "\n",
    "depr_print = deprecated(print)\n",
    "depr_print([1, 2, 3])"
   ]
  },
  {
   "cell_type": "markdown",
   "metadata": {
    "pycharm": {
     "name": "#%% md\n"
    },
    "slideshow": {
     "slide_type": "slide"
    }
   },
   "source": [
    "### Синтаксис декораторов"
   ]
  },
  {
   "cell_type": "code",
   "execution_count": 41,
   "metadata": {
    "pycharm": {
     "name": "#%%\n"
    },
    "slideshow": {
     "slide_type": "fragment"
    }
   },
   "outputs": [
    {
     "name": "stderr",
     "output_type": "stream",
     "text": [
      "add is deprecated!\n"
     ]
    },
    {
     "data": {
      "text/plain": [
       "3"
      ]
     },
     "execution_count": 41,
     "metadata": {},
     "output_type": "execute_result"
    }
   ],
   "source": [
    "import sys\n",
    "\n",
    "def deprecated(func):\n",
    "    def wrapper(*args, **kwargs):\n",
    "        print(f'{func.__name__} is deprecated!', file=sys.stderr)\n",
    "#         return smth\n",
    "        return func(*args, **kwargs)\n",
    "    return wrapper\n",
    "\n",
    "@deprecated\n",
    "def add(x, y):\n",
    "    return x + y\n",
    "\n",
    "add(1, 2)"
   ]
  },
  {
   "cell_type": "markdown",
   "metadata": {
    "pycharm": {
     "name": "#%% md\n"
    },
    "slideshow": {
     "slide_type": "slide"
    }
   },
   "source": [
    "### Monke"
   ]
  },
  {
   "cell_type": "code",
   "execution_count": 42,
   "metadata": {
    "pycharm": {
     "name": "#%%\n"
    },
    "scrolled": false,
    "slideshow": {
     "slide_type": "fragment"
    }
   },
   "outputs": [
    {
     "name": "stdout",
     "output_type": "stream",
     "text": [
      "<class 'IPython.core.display.HTML'>\n"
     ]
    },
    {
     "data": {
      "text/html": [
       "<img src=\"https://i.kym-cdn.com/photos/images/original/002/578/699/9c8.gif\">"
      ],
      "text/plain": [
       "<IPython.core.display.HTML object>"
      ]
     },
     "execution_count": 42,
     "metadata": {},
     "output_type": "execute_result"
    }
   ],
   "source": [
    "from IPython import display\n",
    "\n",
    "def monke(func):\n",
    "    return display.HTML('<img src=\"https://i.kym-cdn.com/photos/images/original/002/578/699/9c8.gif\">')\n",
    "\n",
    "@monke\n",
    "def dummy_function(arg):\n",
    "    print(arg)\n",
    "\n",
    "print(type(dummy_function))\n",
    "dummy_function  # not a function anymore"
   ]
  },
  {
   "cell_type": "markdown",
   "metadata": {
    "pycharm": {
     "name": "#%% md\n"
    },
    "slideshow": {
     "slide_type": "slide"
    }
   },
   "source": [
    "### Проблема"
   ]
  },
  {
   "cell_type": "code",
   "execution_count": 43,
   "metadata": {
    "pycharm": {
     "name": "#%%\n"
    },
    "scrolled": true,
    "slideshow": {
     "slide_type": "fragment"
    }
   },
   "outputs": [
    {
     "name": "stdout",
     "output_type": "stream",
     "text": [
      "wrapper\n",
      "None\n"
     ]
    }
   ],
   "source": [
    "@deprecated\n",
    "def show(x):\n",
    "    'This is a really nice looking docstring'\n",
    "    print(x)\n",
    "\n",
    "print(show.__name__)\n",
    "print(show.__doc__)"
   ]
  },
  {
   "cell_type": "code",
   "execution_count": 44,
   "metadata": {},
   "outputs": [],
   "source": [
    "# show()"
   ]
  },
  {
   "cell_type": "markdown",
   "metadata": {
    "pycharm": {
     "name": "#%% md\n"
    },
    "slideshow": {
     "slide_type": "slide"
    }
   },
   "source": [
    "### Решение 1"
   ]
  },
  {
   "cell_type": "code",
   "execution_count": 45,
   "metadata": {
    "pycharm": {
     "name": "#%%\n"
    },
    "slideshow": {
     "slide_type": "fragment"
    }
   },
   "outputs": [
    {
     "name": "stdout",
     "output_type": "stream",
     "text": [
      "show\n",
      "This is a really nice looking docstring\n"
     ]
    }
   ],
   "source": [
    "def deprecated(func):\n",
    "    def wrapper(*args, **kwargs):\n",
    "        print('{} is deprecated!'.format(func.__name__),\n",
    "              file=sys.stderr)\n",
    "        return func(*args, **kwargs)\n",
    "    wrapper.__name__ = func.__name__\n",
    "    wrapper.__doc__ = func.__doc__\n",
    "    wrapper.__module__ = func.__module__\n",
    "    return wrapper\n",
    "\n",
    "@deprecated\n",
    "def show(x):\n",
    "    'This is a really nice looking docstring'\n",
    "    print(x)\n",
    "\n",
    "print(show.__name__)\n",
    "print(show.__doc__)"
   ]
  },
  {
   "cell_type": "code",
   "execution_count": 46,
   "metadata": {},
   "outputs": [],
   "source": [
    "# show()"
   ]
  },
  {
   "cell_type": "markdown",
   "metadata": {
    "pycharm": {
     "name": "#%% md\n"
    },
    "slideshow": {
     "slide_type": "slide"
    }
   },
   "source": [
    "### Решение 2"
   ]
  },
  {
   "cell_type": "code",
   "execution_count": 47,
   "metadata": {
    "pycharm": {
     "name": "#%%\n"
    },
    "slideshow": {
     "slide_type": "fragment"
    }
   },
   "outputs": [
    {
     "name": "stdout",
     "output_type": "stream",
     "text": [
      "show\n",
      "This is a really nice looking docstring\n"
     ]
    }
   ],
   "source": [
    "from functools import wraps\n",
    "\n",
    "def deprecated(func):\n",
    "    @wraps(func)\n",
    "    def wrapper(*args, **kwargs):\n",
    "        print('{} is deprecated!'.format(func.__name__),\n",
    "              file=sys.stderr)\n",
    "        return func(*args, **kwargs)\n",
    "    return wrapper\n",
    "\n",
    "@deprecated\n",
    "def show(x):\n",
    "    'This is a really nice looking docstring'\n",
    "    print(x)\n",
    "\n",
    "print(show.__name__)\n",
    "print(show.__doc__)"
   ]
  },
  {
   "cell_type": "markdown",
   "metadata": {
    "pycharm": {
     "name": "#%% md\n"
    },
    "slideshow": {
     "slide_type": "slide"
    }
   },
   "source": [
    "### Декоратор Once"
   ]
  },
  {
   "cell_type": "code",
   "execution_count": 48,
   "metadata": {
    "pycharm": {
     "name": "#%%\n"
    },
    "slideshow": {
     "slide_type": "fragment"
    }
   },
   "outputs": [
    {
     "name": "stdout",
     "output_type": "stream",
     "text": [
      "Hi!\n",
      "Hello!\n"
     ]
    }
   ],
   "source": [
    "def once(func):\n",
    "    called = False\n",
    "\n",
    "    def wrapper(*args, **kwargs):\n",
    "        nonlocal called\n",
    "        if not called:\n",
    "            called = True\n",
    "            return func(*args, **kwargs)\n",
    "\n",
    "    return wrapper\n",
    "\n",
    "@once\n",
    "def f():\n",
    "    print('Hi!')\n",
    "    \n",
    "@once\n",
    "def g():\n",
    "    print(\"Hello!\")\n",
    "\n",
    "f()\n",
    "f()\n",
    "\n",
    "g()\n",
    "g()"
   ]
  },
  {
   "cell_type": "code",
   "execution_count": 49,
   "metadata": {
    "pycharm": {
     "name": "#%%\n"
    },
    "scrolled": false,
    "slideshow": {
     "slide_type": "slide"
    }
   },
   "outputs": [
    {
     "name": "stderr",
     "output_type": "stream",
     "text": [
      "f called with args ('Hi!',), {'test': 42}!\n",
      "f called with args ('Hi!', 21.0), {}!\n",
      "f called with args ('Hi!', 10.5), {}!\n",
      "f called with args ('Hi!', 5.25), {}!\n",
      "f called with args ('Hi!', 2.625), {}!\n",
      "f called with args ('Hi!', 1.3125), {}!\n",
      "f called with args ('Hi!', 0.65625), {}!\n"
     ]
    }
   ],
   "source": [
    "import functools\n",
    "import sys\n",
    "\n",
    "def trace(dest=sys.stderr):\n",
    "    def wraps(func):\n",
    "        @functools.wraps(func)\n",
    "        def wrapper(*args, **kwargs):\n",
    "            print(\n",
    "                f'{func.__name__} called with args {args}, {kwargs}!',\n",
    "                file=dest\n",
    "            )\n",
    "            return func(*args, **kwargs)\n",
    "        return wrapper\n",
    "    return wraps\n",
    "\n",
    "@trace()\n",
    "# @trace(sys.stdout)\n",
    "def f(x, test):\n",
    "    if test > 1:\n",
    "        return f(x, test / 2)\n",
    "\n",
    "f('Hi!', test=42)"
   ]
  },
  {
   "cell_type": "markdown",
   "metadata": {
    "pycharm": {
     "name": "#%% md\n"
    },
    "slideshow": {
     "slide_type": "slide"
    }
   },
   "source": [
    "### Цепочки декораторов"
   ]
  },
  {
   "cell_type": "code",
   "execution_count": 50,
   "metadata": {
    "pycharm": {
     "name": "#%%\n"
    },
    "slideshow": {
     "slide_type": "fragment"
    }
   },
   "outputs": [
    {
     "name": "stderr",
     "output_type": "stream",
     "text": [
      "f is deprecated!\n",
      "f called with args (1,), {}!\n"
     ]
    },
    {
     "data": {
      "text/plain": [
       "1"
      ]
     },
     "execution_count": 50,
     "metadata": {},
     "output_type": "execute_result"
    }
   ],
   "source": [
    "@deprecated\n",
    "@trace()\n",
    "def f(x):\n",
    "    return x\n",
    "\n",
    "f(1)"
   ]
  },
  {
   "cell_type": "markdown",
   "metadata": {
    "pycharm": {
     "name": "#%% md\n"
    },
    "slideshow": {
     "slide_type": "slide"
    }
   },
   "source": [
    "## Декоратор notify"
   ]
  },
  {
   "cell_type": "code",
   "execution_count": 51,
   "metadata": {
    "pycharm": {
     "name": "#%%\n"
    },
    "slideshow": {
     "slide_type": "fragment"
    }
   },
   "outputs": [
    {
     "name": "stdout",
     "output_type": "stream",
     "text": [
      "foo is done\n",
      "foo is done\n",
      "bar is done\n",
      "bar is done\n"
     ]
    },
    {
     "name": "stderr",
     "output_type": "stream",
     "text": [
      "SAMPLE TEXT\n",
      "SAMPLE TEXT\n",
      "sup /b/\n",
      "sup /b/\n"
     ]
    }
   ],
   "source": [
    "# notify: decorator\n",
    "# - без параметров: отправляет сообщение в чат\n",
    "# - с параметрами: отправляет сообщение с переданными параметрами\n",
    "import functools\n",
    "import sys\n",
    "from custom_telegram_api import send  # don't forget to configure .env\n",
    "\n",
    "\n",
    "def notify(*dec_args):\n",
    "    if len(dec_args) == 1 and callable(dec_args[0]):\n",
    "        func = dec_args[0]\n",
    "        message = \"SAMPLE TEXT\"\n",
    "    else:\n",
    "#         print(dec_args)\n",
    "        func = None\n",
    "        message = dec_args[0]\n",
    "#         print(func)\n",
    "    \n",
    "    def first_level_decorator(func):\n",
    "        @functools.wraps(func)\n",
    "        def wrapper(*args, **kwargs):\n",
    "            r = func(*args, **kwargs)\n",
    "            print(message, file=sys.stderr)\n",
    "#             send(message)\n",
    "            return r\n",
    "        return wrapper\n",
    "    \n",
    "    if func is not None:\n",
    "        return first_level_decorator(func)\n",
    "    else:\n",
    "        return first_level_decorator\n",
    "\n",
    "\n",
    "@notify\n",
    "def foo():\n",
    "    '''Docstring 1'''\n",
    "    print('foo is done')\n",
    "\n",
    "\n",
    "@notify('sup /b/')\n",
    "def bar():\n",
    "    '''Docstring 2'''\n",
    "    print('bar is done')\n",
    "\n",
    "\n",
    "foo()\n",
    "foo()\n",
    "bar()\n",
    "bar()"
   ]
  },
  {
   "cell_type": "markdown",
   "metadata": {},
   "source": [
    "<div class=\"alert alert-danger\">\n",
    "<b>Антипаттерн: </b> написание таких декораторов, как в примере выше\n",
    "</div>"
   ]
  },
  {
   "cell_type": "markdown",
   "metadata": {
    "pycharm": {
     "name": "#%%\n"
    },
    "slideshow": {
     "slide_type": "slide"
    }
   },
   "source": [
    "# Тайпинги\n",
    "\n",
    "[Pep 612](https://peps.python.org/pep-0612/): `ParamSpec`, `Concatenate`, `ReturnType`"
   ]
  },
  {
   "cell_type": "code",
   "execution_count": 52,
   "metadata": {
    "slideshow": {
     "slide_type": "fragment"
    }
   },
   "outputs": [],
   "source": [
    "from typing import Callable, TypeVar, TextIO, ParamSpec\n",
    "import sys\n",
    "\n",
    "R = TypeVar(\"R\")\n",
    "P = ParamSpec(\"P\")\n",
    "\n",
    "def trace(dest: TextIO = sys.stderr):\n",
    "    def wraps(func: Callable[P, R]) -> Callable[P, R]:\n",
    "        @functools.wraps(func)\n",
    "        def wrapper(*args: P.args, **kwargs: P.kwargs):\n",
    "            print(\n",
    "                f'{func.__name__} called with args {args}, {kwargs}!',\n",
    "                file=dest\n",
    "            )\n",
    "            return func(*args, **kwargs)\n",
    "        return wrapper\n",
    "    return wraps\n"
   ]
  }
 ],
 "metadata": {
  "celltoolbar": "Slideshow",
  "kernelspec": {
   "display_name": "Python 3 (ipykernel)",
   "language": "python",
   "name": "python3"
  },
  "language_info": {
   "codemirror_mode": {
    "name": "ipython",
    "version": 3
   },
   "file_extension": ".py",
   "mimetype": "text/x-python",
   "name": "python",
   "nbconvert_exporter": "python",
   "pygments_lexer": "ipython3",
   "version": "3.12.5"
  },
  "rise": {
   "enable_chalkboard": true,
   "footer": "<p style=\"margin: 5px; color: #a0a0a0\">YSDA Python Course</p>",
   "scroll": true,
   "start_slideshow_at": "selected",
   "theme": "serif",
   "transition": "none"
  },
  "toc": {
   "base_numbering": 1,
   "nav_menu": {},
   "number_sections": true,
   "sideBar": true,
   "skip_h1_title": false,
   "title_cell": "Table of Contents",
   "title_sidebar": "Contents",
   "toc_cell": false,
   "toc_position": {},
   "toc_section_display": true,
   "toc_window_display": false
  },
  "varInspector": {
   "cols": {
    "lenName": 16,
    "lenType": 16,
    "lenVar": 40
   },
   "kernels_config": {
    "python": {
     "delete_cmd_postfix": "",
     "delete_cmd_prefix": "del ",
     "library": "var_list.py",
     "varRefreshCmd": "print(var_dic_list())"
    },
    "r": {
     "delete_cmd_postfix": ") ",
     "delete_cmd_prefix": "rm(",
     "library": "var_list.r",
     "varRefreshCmd": "cat(var_dic_list()) "
    }
   },
   "position": {
    "height": "323.45px",
    "left": "1170px",
    "right": "20px",
    "top": "118px",
    "width": "344px"
   },
   "types_to_exclude": [
    "module",
    "function",
    "builtin_function_or_method",
    "instance",
    "_Feature"
   ],
   "window_display": false
  }
 },
 "nbformat": 4,
 "nbformat_minor": 2
}
